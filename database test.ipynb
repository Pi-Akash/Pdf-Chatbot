{
 "cells": [
  {
   "cell_type": "code",
   "execution_count": 1,
   "metadata": {},
   "outputs": [],
   "source": [
    "import sqlite3\n",
    "import os"
   ]
  },
  {
   "cell_type": "code",
   "execution_count": 11,
   "metadata": {},
   "outputs": [],
   "source": [
    "def sqlite_connection(db_name):\n",
    "    connection = sqlite3.connect(db_name)\n",
    "    return connection"
   ]
  },
  {
   "cell_type": "code",
   "execution_count": 18,
   "metadata": {},
   "outputs": [],
   "source": [
    "def get_collection_id(collection_name):\n",
    "    try:\n",
    "        conn = sqlite_connection(db_name = \"Embeddings/chroma.sqlite3\")\n",
    "    except Exception as e:\n",
    "        print(e)\n",
    "    \n",
    "    with conn:\n",
    "        cursor = conn.cursor()\n",
    "        #rows = cursor.execute(\"SELECT name FROM sqlite_master WHERE type='table';\").fetchall()\n",
    "        rows = cursor.execute(\n",
    "            \"\"\"\n",
    "            with temp_table as (\n",
    "                select \n",
    "                s.id, \n",
    "                s.collection, \n",
    "                c.name \n",
    "                from segments as s inner join collections as c \n",
    "                on s.collection = c.id where scope = \"VECTOR\"\n",
    "            )\n",
    "            \n",
    "            select id from temp_table where name = ?\n",
    "            \"\"\", (collection_name,)\n",
    "            ).fetchall()\n",
    "    return rows"
   ]
  },
  {
   "cell_type": "code",
   "execution_count": 20,
   "metadata": {},
   "outputs": [],
   "source": [
    "collection_id = get_collection_id(\"local-chroma-rag\")"
   ]
  },
  {
   "cell_type": "code",
   "execution_count": 21,
   "metadata": {},
   "outputs": [
    {
     "data": {
      "text/plain": [
       "'e1154862-418c-4955-8e7d-37a14fe846d1'"
      ]
     },
     "execution_count": 21,
     "metadata": {},
     "output_type": "execute_result"
    }
   ],
   "source": [
    "collection_id[0][0]"
   ]
  },
  {
   "cell_type": "code",
   "execution_count": null,
   "metadata": {},
   "outputs": [],
   "source": []
  }
 ],
 "metadata": {
  "kernelspec": {
   "display_name": "LLMTests",
   "language": "python",
   "name": "python3"
  },
  "language_info": {
   "codemirror_mode": {
    "name": "ipython",
    "version": 3
   },
   "file_extension": ".py",
   "mimetype": "text/x-python",
   "name": "python",
   "nbconvert_exporter": "python",
   "pygments_lexer": "ipython3",
   "version": "3.11.8"
  }
 },
 "nbformat": 4,
 "nbformat_minor": 2
}
